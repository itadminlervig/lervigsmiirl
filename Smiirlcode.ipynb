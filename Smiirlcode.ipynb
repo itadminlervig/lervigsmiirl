{
 "cells": [
  {
   "cell_type": "code",
   "execution_count": 7,
   "metadata": {},
   "outputs": [],
   "source": [
    "import pandas as pd\n",
    "import os\n",
    "from datetime import datetime\n",
    "# Load the csv file into a DataFrame\n",
    "excel_file_path = 'Lervig_Salesreport_invoiced.csv'\n",
    "df = pd.read_csv(excel_file_path, sep=',')  # Replace 'Sheet1' with your sheet name"
   ]
  },
  {
   "cell_type": "code",
   "execution_count": 8,
   "metadata": {},
   "outputs": [],
   "source": [
    "def TotalVolume(df):\n",
    "    # Define the columns to keep\n",
    "    columns_to_keep = [\"ArticleNo\", \"SoldVolume\", \"LastInvoiceDate\"]\n",
    "\n",
    "    # Drop columns that are not in the \"columns_to_keep\" list\n",
    "    columns_to_drop = [col for col in df.columns if col not in columns_to_keep]\n",
    "    df = df.drop(columns=columns_to_drop)\n",
    "\n",
    "    # Convert \"LastInvoiceDate\" column to datetime format\n",
    "    df[\"LastInvoiceDate\"] = pd.to_datetime(df[\"LastInvoiceDate\"])\n",
    "\n",
    "    # Extract month from \"LastInvoiceDate\" column\n",
    "    df[\"DeliveryMonth\"] = df[\"LastInvoiceDate\"].dt.month\n",
    "    df[\"DeliveryYear\"] = df[\"LastInvoiceDate\"].dt.year\n",
    "\n",
    "    current_month = datetime.now().month\n",
    "    current_year = datetime.now().year\n",
    "    current_day = datetime.now().day\n",
    "\n",
    "    # Calculate the last day of the current month\n",
    "    last_day_of_current_month = datetime(current_year, current_month, 1) + pd.offsets.MonthEnd(0)\n",
    "\n",
    "    # Calculate the 3rd of the next month\n",
    "    next_month = current_month + 1 if current_month != 12 else 1\n",
    "    next_month_year = current_year if current_month != 12 else current_year + 1\n",
    "    third_of_next_month = datetime(next_month_year, next_month, 3)\n",
    "\n",
    "    # Filter rows based on the given conditions\n",
    "    if 1 <= current_day <= 3:\n",
    "        previous_month = current_month - 1 if current_month != 1 else 12\n",
    "        previous_month_year = current_year if current_month != 1 else current_year - 1\n",
    "        last_day_of_previous_month = datetime(previous_month_year, previous_month, 1) + pd.offsets.MonthEnd(0)\n",
    "\n",
    "        filtered_rows = df[(df[\"LastInvoiceDate\"] >= last_day_of_previous_month) & (df[\"LastInvoiceDate\"] <= third_of_next_month)]\n",
    "    else:\n",
    "        filtered_rows = df[(df[\"LastInvoiceDate\"].dt.year == current_year) & (df[\"LastInvoiceDate\"].dt.month == current_month)]\n",
    "\n",
    "    # Calculate the sum of \"SoldVolume\" for the filtered rows\n",
    "    Volume = int(filtered_rows[\"SoldVolume\"].sum())\n",
    "    return Volume"
   ]
  },
  {
   "cell_type": "code",
   "execution_count": 9,
   "metadata": {},
   "outputs": [
    {
     "data": {
      "text/plain": [
       "111651"
      ]
     },
     "execution_count": 9,
     "metadata": {},
     "output_type": "execute_result"
    }
   ],
   "source": [
    "Volume = TotalVolume(df)\n",
    "Volume"
   ]
  }
 ],
 "metadata": {
  "kernelspec": {
   "display_name": "Python 3",
   "language": "python",
   "name": "python3"
  },
  "language_info": {
   "codemirror_mode": {
    "name": "ipython",
    "version": 3
   },
   "file_extension": ".py",
   "mimetype": "text/x-python",
   "name": "python",
   "nbconvert_exporter": "python",
   "pygments_lexer": "ipython3",
   "version": "3.11.3"
  },
  "orig_nbformat": 4
 },
 "nbformat": 4,
 "nbformat_minor": 2
}
